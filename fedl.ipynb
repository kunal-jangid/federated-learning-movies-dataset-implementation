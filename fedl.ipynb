{
 "cells": [
  {
   "cell_type": "code",
   "execution_count": 2,
   "id": "461b02a5",
   "metadata": {},
   "outputs": [
    {
     "name": "stderr",
     "output_type": "stream",
     "text": [
      "c:\\Users\\kunal\\AppData\\Local\\Programs\\Python\\Python311\\Lib\\site-packages\\numpy\\lib\\function_base.py:2852: RuntimeWarning: invalid value encountered in divide\n",
      "  return c / c\n"
     ]
    },
    {
     "name": "stdout",
     "output_type": "stream",
     "text": [
      "Epoch 1/10 completed\n"
     ]
    },
    {
     "name": "stderr",
     "output_type": "stream",
     "text": [
      "c:\\Users\\kunal\\AppData\\Local\\Programs\\Python\\Python311\\Lib\\site-packages\\numpy\\lib\\function_base.py:2852: RuntimeWarning: invalid value encountered in divide\n",
      "  return c / c\n"
     ]
    },
    {
     "name": "stdout",
     "output_type": "stream",
     "text": [
      "Epoch 2/10 completed\n"
     ]
    },
    {
     "name": "stderr",
     "output_type": "stream",
     "text": [
      "c:\\Users\\kunal\\AppData\\Local\\Programs\\Python\\Python311\\Lib\\site-packages\\numpy\\lib\\function_base.py:2852: RuntimeWarning: invalid value encountered in divide\n",
      "  return c / c\n"
     ]
    },
    {
     "name": "stdout",
     "output_type": "stream",
     "text": [
      "Epoch 3/10 completed\n"
     ]
    },
    {
     "name": "stderr",
     "output_type": "stream",
     "text": [
      "c:\\Users\\kunal\\AppData\\Local\\Programs\\Python\\Python311\\Lib\\site-packages\\numpy\\lib\\function_base.py:2852: RuntimeWarning: invalid value encountered in divide\n",
      "  return c / c\n"
     ]
    },
    {
     "name": "stdout",
     "output_type": "stream",
     "text": [
      "Epoch 4/10 completed\n"
     ]
    },
    {
     "name": "stderr",
     "output_type": "stream",
     "text": [
      "c:\\Users\\kunal\\AppData\\Local\\Programs\\Python\\Python311\\Lib\\site-packages\\numpy\\lib\\function_base.py:2852: RuntimeWarning: invalid value encountered in divide\n",
      "  return c / c\n"
     ]
    },
    {
     "name": "stdout",
     "output_type": "stream",
     "text": [
      "Epoch 5/10 completed\n"
     ]
    },
    {
     "name": "stderr",
     "output_type": "stream",
     "text": [
      "c:\\Users\\kunal\\AppData\\Local\\Programs\\Python\\Python311\\Lib\\site-packages\\numpy\\lib\\function_base.py:2852: RuntimeWarning: invalid value encountered in divide\n",
      "  return c / c\n"
     ]
    },
    {
     "name": "stdout",
     "output_type": "stream",
     "text": [
      "Epoch 6/10 completed\n"
     ]
    },
    {
     "name": "stderr",
     "output_type": "stream",
     "text": [
      "c:\\Users\\kunal\\AppData\\Local\\Programs\\Python\\Python311\\Lib\\site-packages\\numpy\\lib\\function_base.py:2852: RuntimeWarning: invalid value encountered in divide\n",
      "  return c / c\n"
     ]
    },
    {
     "name": "stdout",
     "output_type": "stream",
     "text": [
      "Epoch 7/10 completed\n"
     ]
    },
    {
     "name": "stderr",
     "output_type": "stream",
     "text": [
      "c:\\Users\\kunal\\AppData\\Local\\Programs\\Python\\Python311\\Lib\\site-packages\\numpy\\lib\\function_base.py:2852: RuntimeWarning: invalid value encountered in divide\n",
      "  return c / c\n"
     ]
    },
    {
     "name": "stdout",
     "output_type": "stream",
     "text": [
      "Epoch 8/10 completed\n"
     ]
    },
    {
     "name": "stderr",
     "output_type": "stream",
     "text": [
      "c:\\Users\\kunal\\AppData\\Local\\Programs\\Python\\Python311\\Lib\\site-packages\\numpy\\lib\\function_base.py:2852: RuntimeWarning: invalid value encountered in divide\n",
      "  return c / c\n"
     ]
    },
    {
     "name": "stdout",
     "output_type": "stream",
     "text": [
      "Epoch 9/10 completed\n"
     ]
    },
    {
     "name": "stderr",
     "output_type": "stream",
     "text": [
      "c:\\Users\\kunal\\AppData\\Local\\Programs\\Python\\Python311\\Lib\\site-packages\\numpy\\lib\\function_base.py:2852: RuntimeWarning: invalid value encountered in divide\n",
      "  return c / c\n"
     ]
    },
    {
     "name": "stdout",
     "output_type": "stream",
     "text": [
      "Epoch 10/10 completed\n"
     ]
    }
   ],
   "source": [
    "import pandas as pd\n",
    "import numpy as np\n",
    "\n",
    "# Load the dataset\n",
    "ratings_df = pd.read_csv('ratings.csv')\n",
    "\n",
    "# Simulate federated learning with user-based collaborative filtering\n",
    "def train_user_model(user_data):\n",
    "    # Assume user_data is a DataFrame containing ratings for a single user\n",
    "    # Implement user-based collaborative filtering to generate recommendations\n",
    "    user_ratings = user_data.pivot(index='movieId', columns='userId', values='rating').fillna(0)\n",
    "    similarity_matrix = np.corrcoef(user_ratings.T)\n",
    "    user_mean_ratings = user_ratings.mean(axis=1)\n",
    "    user_based_recommendations = np.dot(similarity_matrix, user_ratings.subtract(user_mean_ratings, axis=0).T)\n",
    "    return user_based_recommendations\n",
    "\n",
    "# Aggregate user models (simple averaging)\n",
    "def aggregate_models(user_models):\n",
    "    # Simple averaging of user models\n",
    "    max_size = max(model.shape[1] for model in user_models)\n",
    "    padded_models = [np.pad(model, ((0, 0), (0, max_size - model.shape[1]))).flatten() for model in user_models]\n",
    "    aggregated_model = np.mean(padded_models, axis=0)\n",
    "    return aggregated_model.reshape(-1, max_size)  # Reshape to original shape\n",
    "\n",
    "# Simulate federated learning process\n",
    "def federated_learning(data, num_epochs=10, learning_rate=0.01):\n",
    "    user_models = []\n",
    "    for epoch in range(num_epochs):\n",
    "        for user_id, user_data in data.groupby('userId'):\n",
    "            user_model = train_user_model(user_data)\n",
    "            user_models.append(user_model)\n",
    "        aggregated_model = aggregate_models(user_models)\n",
    "        # Update global model (not really necessary in this simplified example)\n",
    "        # This is where more sophisticated federated learning algorithms could be used\n",
    "        # For simplicity, we're just updating a global model with the averaged user models\n",
    "        global_model = aggregated_model\n",
    "        print(f'Epoch {epoch + 1}/{num_epochs} completed')\n",
    "    return global_model\n",
    "\n",
    "# Example usage\n",
    "global_model = federated_learning(ratings_df)\n",
    "# Now, global_model can be used for generating recommendations for any user\n"
   ]
  },
  {
   "cell_type": "code",
   "execution_count": 7,
   "id": "7b41f1d6",
   "metadata": {},
   "outputs": [],
   "source": [
    "# Load the dataset\n",
    "# ratings_df = pd.read_csv('ratings.csv')\n",
    "movies_df = pd.read_csv('movies.csv')\n",
    "ratings_df = pd.merge(ratings_df,movies_df,on='movieId')"
   ]
  },
  {
   "cell_type": "code",
   "execution_count": 8,
   "id": "a9b6bfd9",
   "metadata": {},
   "outputs": [
    {
     "name": "stderr",
     "output_type": "stream",
     "text": [
      "c:\\Users\\kunal\\AppData\\Local\\Programs\\Python\\Python311\\Lib\\site-packages\\numpy\\lib\\function_base.py:2852: RuntimeWarning: invalid value encountered in divide\n",
      "  return c / c\n"
     ]
    },
    {
     "name": "stdout",
     "output_type": "stream",
     "text": [
      "Epoch 1/10 completed\n"
     ]
    },
    {
     "name": "stderr",
     "output_type": "stream",
     "text": [
      "c:\\Users\\kunal\\AppData\\Local\\Programs\\Python\\Python311\\Lib\\site-packages\\numpy\\lib\\function_base.py:2852: RuntimeWarning: invalid value encountered in divide\n",
      "  return c / c\n"
     ]
    },
    {
     "name": "stdout",
     "output_type": "stream",
     "text": [
      "Epoch 2/10 completed\n"
     ]
    },
    {
     "name": "stderr",
     "output_type": "stream",
     "text": [
      "c:\\Users\\kunal\\AppData\\Local\\Programs\\Python\\Python311\\Lib\\site-packages\\numpy\\lib\\function_base.py:2852: RuntimeWarning: invalid value encountered in divide\n",
      "  return c / c\n"
     ]
    },
    {
     "name": "stdout",
     "output_type": "stream",
     "text": [
      "Epoch 3/10 completed\n"
     ]
    },
    {
     "name": "stderr",
     "output_type": "stream",
     "text": [
      "c:\\Users\\kunal\\AppData\\Local\\Programs\\Python\\Python311\\Lib\\site-packages\\numpy\\lib\\function_base.py:2852: RuntimeWarning: invalid value encountered in divide\n",
      "  return c / c\n"
     ]
    },
    {
     "name": "stdout",
     "output_type": "stream",
     "text": [
      "Epoch 4/10 completed\n"
     ]
    },
    {
     "name": "stderr",
     "output_type": "stream",
     "text": [
      "c:\\Users\\kunal\\AppData\\Local\\Programs\\Python\\Python311\\Lib\\site-packages\\numpy\\lib\\function_base.py:2852: RuntimeWarning: invalid value encountered in divide\n",
      "  return c / c\n"
     ]
    },
    {
     "name": "stdout",
     "output_type": "stream",
     "text": [
      "Epoch 5/10 completed\n"
     ]
    },
    {
     "name": "stderr",
     "output_type": "stream",
     "text": [
      "c:\\Users\\kunal\\AppData\\Local\\Programs\\Python\\Python311\\Lib\\site-packages\\numpy\\lib\\function_base.py:2852: RuntimeWarning: invalid value encountered in divide\n",
      "  return c / c\n"
     ]
    },
    {
     "name": "stdout",
     "output_type": "stream",
     "text": [
      "Epoch 6/10 completed\n"
     ]
    },
    {
     "name": "stderr",
     "output_type": "stream",
     "text": [
      "c:\\Users\\kunal\\AppData\\Local\\Programs\\Python\\Python311\\Lib\\site-packages\\numpy\\lib\\function_base.py:2852: RuntimeWarning: invalid value encountered in divide\n",
      "  return c / c\n"
     ]
    },
    {
     "name": "stdout",
     "output_type": "stream",
     "text": [
      "Epoch 7/10 completed\n"
     ]
    },
    {
     "name": "stderr",
     "output_type": "stream",
     "text": [
      "c:\\Users\\kunal\\AppData\\Local\\Programs\\Python\\Python311\\Lib\\site-packages\\numpy\\lib\\function_base.py:2852: RuntimeWarning: invalid value encountered in divide\n",
      "  return c / c\n"
     ]
    },
    {
     "name": "stdout",
     "output_type": "stream",
     "text": [
      "Epoch 8/10 completed\n"
     ]
    },
    {
     "name": "stderr",
     "output_type": "stream",
     "text": [
      "c:\\Users\\kunal\\AppData\\Local\\Programs\\Python\\Python311\\Lib\\site-packages\\numpy\\lib\\function_base.py:2852: RuntimeWarning: invalid value encountered in divide\n",
      "  return c / c\n"
     ]
    },
    {
     "name": "stdout",
     "output_type": "stream",
     "text": [
      "Epoch 9/10 completed\n"
     ]
    },
    {
     "name": "stderr",
     "output_type": "stream",
     "text": [
      "c:\\Users\\kunal\\AppData\\Local\\Programs\\Python\\Python311\\Lib\\site-packages\\numpy\\lib\\function_base.py:2852: RuntimeWarning: invalid value encountered in divide\n",
      "  return c / c\n"
     ]
    },
    {
     "name": "stdout",
     "output_type": "stream",
     "text": [
      "Epoch 10/10 completed\n",
      "Top 5 recommended movies for you:\n",
      "Blood Simple (1984)\n",
      "Glory (1989)\n",
      "Bridge on the River Kwai, The (1957)\n",
      "Femme Nikita, La (Nikita) (1990)\n",
      "Touch of Evil (1958)\n"
     ]
    }
   ],
   "source": [
    "\n",
    "\n",
    "# Simulate federated learning with user-based collaborative filtering\n",
    "def train_user_model(user_data):\n",
    "    # Assume user_data is a DataFrame containing ratings for a single user\n",
    "    # Implement user-based collaborative filtering to generate recommendations\n",
    "    user_ratings = user_data.pivot(index='movieId', columns='userId', values='rating').fillna(0)\n",
    "    similarity_matrix = np.corrcoef(user_ratings.T)\n",
    "    user_mean_ratings = user_ratings.mean(axis=1)\n",
    "    user_based_recommendations = np.dot(similarity_matrix, user_ratings.subtract(user_mean_ratings, axis=0).T)\n",
    "    return user_based_recommendations\n",
    "\n",
    "# Aggregate user models (simple averaging)\n",
    "def aggregate_models(user_models):\n",
    "    # Simple averaging of user models\n",
    "    max_size = max(model.shape[1] for model in user_models)\n",
    "    padded_models = [np.pad(model, ((0, 0), (0, max_size - model.shape[1]))).flatten() for model in user_models]\n",
    "    aggregated_model = np.mean(padded_models, axis=0)\n",
    "    return aggregated_model.reshape(-1, max_size)  # Reshape to original shape\n",
    "\n",
    "# Simulate federated learning process\n",
    "def federated_learning(data, num_epochs=10, learning_rate=0.01):\n",
    "    user_models = []\n",
    "    for epoch in range(num_epochs):\n",
    "        for user_id, user_data in data.groupby('userId'):\n",
    "            user_model = train_user_model(user_data)\n",
    "            user_models.append(user_model)\n",
    "        aggregated_model = aggregate_models(user_models)\n",
    "        # Update global model (not really necessary in this simplified example)\n",
    "        # This is where more sophisticated federated learning algorithms could be used\n",
    "        # For simplicity, we're just updating a global model with the averaged user models\n",
    "        global_model = aggregated_model\n",
    "        print(f'Epoch {epoch + 1}/{num_epochs} completed')\n",
    "    return global_model\n",
    "\n",
    "# Function to recommend movies to a user\n",
    "def recommend_movies(user_id, global_model, ratings_df, num_recommendations=5):\n",
    "    # Find movies not rated by the user\n",
    "    user_movies = ratings_df[ratings_df['userId'] == user_id]['movieId']\n",
    "    all_movies = ratings_df['movieId'].unique()\n",
    "    unrated_movies = np.setdiff1d(all_movies, user_movies)\n",
    "    \n",
    "    # Generate recommendations based on global model\n",
    "    user_model = global_model[:, user_id]\n",
    "    movie_scores = np.dot(global_model.T, user_model)\n",
    "    sorted_indices = np.argsort(movie_scores)[::-1]\n",
    "    recommended_movies = unrated_movies[sorted_indices][:num_recommendations]\n",
    "    return recommended_movies\n",
    "\n",
    "# Example usage\n",
    "global_model = federated_learning(ratings_df)\n",
    "\n",
    "\n"
   ]
  },
  {
   "cell_type": "code",
   "execution_count": 66,
   "id": "ea653470",
   "metadata": {},
   "outputs": [],
   "source": [
    "import gradio as gr\n",
    "\n",
    "def gradio_func(user_id):\n",
    "    user_id = int(user_id)\n",
    "    recommendations = recommend_movies(user_id, global_model, ratings_df)\n",
    "    res=\"\"\n",
    "\n",
    "    for movie_id in recommendations:\n",
    "        movie_title = ratings_df[ratings_df['movieId'] == movie_id]['title'].iloc[0]\n",
    "        res += movie_title+\"\\n\"\n",
    "\n",
    "    liked = list(ratings_df['title'].loc[ratings_df['userId'] == user_id])\n",
    "    res += \"\\n\\n\\nMOVIES WATCHED ALREADY\\n\"\n",
    "    for each in liked:\n",
    "        res += each + \"\\n\"\n",
    "    return res\n",
    "\n",
    "article = \"<h3>How to use:</h3>\" \\\n",
    "\"<ul><li>Enter the user id: </li>\" \\\n",
    "\"<li>Click on Submit: </li>\" \\\n",
    "\"<li>Enjoy the recommendations.</li></ul>\"\n",
    "\n",
    "# Create Gradio interface\n",
    "demo = gr.Interface(fn=gradio_func, inputs=gr.Textbox(label=\"Enter user id:\"), outputs=gr.Textbox(label=\"Top 5 recommended movies for you\"), title=\"Movie Recommendation System\", theme=gr.Theme.from_hub('HaleyCH/HaleyCH_Theme'), article=article)"
   ]
  },
  {
   "cell_type": "code",
   "execution_count": 67,
   "id": "fdc28e60",
   "metadata": {},
   "outputs": [
    {
     "name": "stdout",
     "output_type": "stream",
     "text": [
      "Running on local URL:  http://127.0.0.1:7866\n",
      "\n",
      "To create a public link, set `share=True` in `launch()`.\n"
     ]
    },
    {
     "data": {
      "text/html": [
       "<div><iframe src=\"http://127.0.0.1:7866/\" width=\"100%\" height=\"500\" allow=\"autoplay; camera; microphone; clipboard-read; clipboard-write;\" frameborder=\"0\" allowfullscreen></iframe></div>"
      ],
      "text/plain": [
       "<IPython.core.display.HTML object>"
      ]
     },
     "metadata": {},
     "output_type": "display_data"
    },
    {
     "data": {
      "text/plain": []
     },
     "execution_count": 67,
     "metadata": {},
     "output_type": "execute_result"
    }
   ],
   "source": [
    "demo.launch()"
   ]
  }
 ],
 "metadata": {
  "kernelspec": {
   "display_name": "Python 3 (ipykernel)",
   "language": "python",
   "name": "python3"
  },
  "language_info": {
   "codemirror_mode": {
    "name": "ipython",
    "version": 3
   },
   "file_extension": ".py",
   "mimetype": "text/x-python",
   "name": "python",
   "nbconvert_exporter": "python",
   "pygments_lexer": "ipython3",
   "version": "3.11.9"
  }
 },
 "nbformat": 4,
 "nbformat_minor": 5
}
